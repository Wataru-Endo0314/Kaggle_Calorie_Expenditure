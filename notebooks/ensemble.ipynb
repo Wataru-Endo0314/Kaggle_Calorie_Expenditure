{
 "cells": [
  {
   "cell_type": "code",
   "execution_count": 1,
   "id": "a3b5f3e7-6a4c-49f5-afd9-29f42bbe3048",
   "metadata": {},
   "outputs": [],
   "source": [
    "import pandas as pd\n",
    "import numpy as np"
   ]
  },
  {
   "cell_type": "code",
   "execution_count": 13,
   "id": "8a27c958-3685-4309-b1d7-c50e5a457994",
   "metadata": {},
   "outputs": [],
   "source": [
    "path = '../predictions/'\n",
    "model = ['lightgbm', 'xgboost']\n",
    "predictions_dfs = []\n",
    "predictions =[]\n",
    "pred_col = 'Calories'\n",
    "submission = pd.read_csv('../input/sample_submission.csv')\n",
    "for i in range(len(model)):\n",
    "    predictions_dfs.append(pd.read_csv(f'{path}pred_{model[i]}.csv'))\n",
    "    predictions.append(predictions_dfs[i][pred_col])\n",
    "    "
   ]
  },
  {
   "cell_type": "code",
   "execution_count": 14,
   "id": "79e99b8f-8643-4739-879e-a8f8026744b9",
   "metadata": {},
   "outputs": [],
   "source": [
    "ensemble_prediction = pd.concat(predictions, axis=1).mean(axis=1)"
   ]
  },
  {
   "cell_type": "code",
   "execution_count": 15,
   "id": "2365c0ce-0c05-4cd0-85be-480496a56484",
   "metadata": {},
   "outputs": [],
   "source": [
    "submission['Calories'] = ensemble_prediction"
   ]
  },
  {
   "cell_type": "code",
   "execution_count": 16,
   "id": "028cc86f-64db-450b-81db-1c9ac0fb8bc0",
   "metadata": {},
   "outputs": [],
   "source": [
    "submission.to_csv('../submission01.csv', index = False)"
   ]
  }
 ],
 "metadata": {
  "kernelspec": {
   "display_name": "Python 3 (ipykernel)",
   "language": "python",
   "name": "python3"
  },
  "language_info": {
   "codemirror_mode": {
    "name": "ipython",
    "version": 3
   },
   "file_extension": ".py",
   "mimetype": "text/x-python",
   "name": "python",
   "nbconvert_exporter": "python",
   "pygments_lexer": "ipython3",
   "version": "3.9.17"
  }
 },
 "nbformat": 4,
 "nbformat_minor": 5
}
