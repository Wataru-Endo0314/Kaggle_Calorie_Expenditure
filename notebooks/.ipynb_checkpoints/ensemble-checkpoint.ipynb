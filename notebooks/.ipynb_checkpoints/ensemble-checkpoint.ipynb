{
 "cells": [
  {
   "cell_type": "code",
   "execution_count": 1,
   "id": "a3b5f3e7-6a4c-49f5-afd9-29f42bbe3048",
   "metadata": {},
   "outputs": [],
   "source": [
    "import pandas as pd\n",
    "import numpy as np"
   ]
  },
  {
   "cell_type": "code",
   "execution_count": 5,
   "id": "8a27c958-3685-4309-b1d7-c50e5a457994",
   "metadata": {},
   "outputs": [],
   "source": [
    "path = '../predictions/'\n",
    "model = ['lightgbm', 'xgboost']\n",
    "predictions = []\n",
    "for i in range(len(model)):\n",
    "    predictions.append(pd.read_csv(f'{path}pred_{model[i]}.csv'))"
   ]
  },
  {
   "cell_type": "code",
   "execution_count": 6,
   "id": "79e99b8f-8643-4739-879e-a8f8026744b9",
   "metadata": {},
   "outputs": [
    {
     "data": {
      "text/plain": [
       "[            id    Calories\n",
       " 0       750000   27.492544\n",
       " 1       750001  107.837763\n",
       " 2       750002   86.932440\n",
       " 3       750003  125.328819\n",
       " 4       750004   75.925444\n",
       " ...        ...         ...\n",
       " 249995  999995   26.038524\n",
       " 249996  999996    9.567695\n",
       " 249997  999997   72.982447\n",
       " 249998  999998  169.019092\n",
       " 249999  999999   77.106589\n",
       " \n",
       " [250000 rows x 2 columns],\n",
       "             id    Calories\n",
       " 0       750000   28.149345\n",
       " 1       750001  108.010630\n",
       " 2       750002   86.689070\n",
       " 3       750003  124.769780\n",
       " 4       750004   75.333510\n",
       " ...        ...         ...\n",
       " 249995  999995   25.749370\n",
       " 249996  999996    9.240934\n",
       " 249997  999997   72.649536\n",
       " 249998  999998  169.136250\n",
       " 249999  999999   76.510640\n",
       " \n",
       " [250000 rows x 2 columns]]"
      ]
     },
     "execution_count": 6,
     "metadata": {},
     "output_type": "execute_result"
    }
   ],
   "source": []
  },
  {
   "cell_type": "code",
   "execution_count": null,
   "id": "2365c0ce-0c05-4cd0-85be-480496a56484",
   "metadata": {},
   "outputs": [],
   "source": []
  }
 ],
 "metadata": {
  "kernelspec": {
   "display_name": "Python 3 (ipykernel)",
   "language": "python",
   "name": "python3"
  },
  "language_info": {
   "codemirror_mode": {
    "name": "ipython",
    "version": 3
   },
   "file_extension": ".py",
   "mimetype": "text/x-python",
   "name": "python",
   "nbconvert_exporter": "python",
   "pygments_lexer": "ipython3",
   "version": "3.9.17"
  }
 },
 "nbformat": 4,
 "nbformat_minor": 5
}
